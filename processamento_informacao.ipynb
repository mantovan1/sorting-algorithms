{
  "nbformat": 4,
  "nbformat_minor": 0,
  "metadata": {
    "colab": {
      "provenance": [],
      "authorship_tag": "ABX9TyNOdwDKze3V/XeZEExk8tVb",
      "include_colab_link": true
    },
    "kernelspec": {
      "name": "python3",
      "display_name": "Python 3"
    },
    "language_info": {
      "name": "python"
    }
  },
  "cells": [
    {
      "cell_type": "markdown",
      "metadata": {
        "id": "view-in-github",
        "colab_type": "text"
      },
      "source": [
        "<a href=\"https://colab.research.google.com/github/mantovan1/sorting-algorithms/blob/main/processamento_informacao.ipynb\" target=\"_parent\"><img src=\"https://colab.research.google.com/assets/colab-badge.svg\" alt=\"Open In Colab\"/></a>"
      ]
    },
    {
      "cell_type": "markdown",
      "source": [
        "Selection Sort"
      ],
      "metadata": {
        "id": "QZi-jUhNjjgY"
      }
    },
    {
      "cell_type": "code",
      "source": [
        "def sort(number_list: list()):\n",
        "  for current_index in range(0, len(number_list)):\n",
        "    min_index = min(number_list[current_index:], current_index)\n",
        "    swap(number_list, current_index, min_index)"
      ],
      "metadata": {
        "id": "gTznVuz5dHJw"
      },
      "execution_count": 32,
      "outputs": []
    },
    {
      "cell_type": "code",
      "source": [
        "def min(number_list: list(), pos: int) -> int:\n",
        "  min_index = 0\n",
        "  for i in range(1, len(number_list)):\n",
        "    if(number_list[i] < number_list[min_index]):\n",
        "      min_index = i\n",
        "  return min_index + pos"
      ],
      "metadata": {
        "id": "8jKVKsxXeKmh"
      },
      "execution_count": 33,
      "outputs": []
    },
    {
      "cell_type": "code",
      "source": [
        "def swap(number_list : list(), current_index, min_index):\n",
        "  previus_value = number_list[current_index]\n",
        "  value = number_list[min_index]\n",
        "  number_list[current_index] = value;\n",
        "  number_list[min_index] = previus_value"
      ],
      "metadata": {
        "id": "2GTIgJSQeDiG"
      },
      "execution_count": 34,
      "outputs": []
    },
    {
      "cell_type": "markdown",
      "source": [
        "merge sort"
      ],
      "metadata": {
        "id": "gDgKhzBlremN"
      }
    },
    {
      "cell_type": "code",
      "source": [
        "def merge(arr: list()):\n",
        "  if(len(arr) > 1):\n",
        "    half = len(arr) // 2\n",
        "    l = arr[:half]\n",
        "    r = arr[half:]\n",
        "    merge(l)\n",
        "    merge(r)\n",
        "\n",
        "    i = j = k = 0\n",
        "\n",
        "    while(i < len(l) and j < len(r)):\n",
        "      if(l[i] <= r[j]):\n",
        "        arr[k] = l[i]\n",
        "        i = i + 1\n",
        "      else:\n",
        "        arr[k] = r[j]\n",
        "        j = j + 1\n",
        "      k = k + 1\n",
        "\n",
        "    while(i < len(l)):\n",
        "      arr[k] = l[i]\n",
        "      i += 1\n",
        "      k += 1\n",
        "\n",
        "    while(j < len(r)):\n",
        "      arr[k] = r[j]\n",
        "      j += 1\n",
        "      k += 1"
      ],
      "metadata": {
        "id": "oIvMQ7YFo3MP"
      },
      "execution_count": null,
      "outputs": []
    },
    {
      "cell_type": "markdown",
      "source": [
        "heap sort"
      ],
      "metadata": {
        "id": "D09nQ7yg7Kko"
      }
    },
    {
      "cell_type": "code",
      "source": [
        "def heapify(arr, n, i):\n",
        "  largest = i\n",
        "  l = i * 2 + 1\n",
        "  r = i * 2 + 2\n",
        "\n",
        "  if l < n and arr[largest] < arr[l]:\n",
        "    largest = l\n",
        "  if r < n and arr[largest] < arr[r]:\n",
        "    largest = r\n",
        "  if(largest != i):\n",
        "    arr[i], arr[largest] = arr[largest], arr[i];\n",
        "    heapify(arr, n, largest)"
      ],
      "metadata": {
        "id": "I6AK3Q3wwn-2"
      },
      "execution_count": null,
      "outputs": []
    },
    {
      "cell_type": "code",
      "source": [
        "def heap(arr: list()):\n",
        "  n = len(arr)\n",
        "  for i in range(n // 2 - 1, -1, -1):\n",
        "    heapify(arr, n, i)\n",
        "  for i in range(n-1, 0, -1):\n",
        "    arr[i], arr[0] = arr[0], arr[i] # swap\n",
        "    heapify(arr, i, 0)"
      ],
      "metadata": {
        "id": "PJtHSenSwsZA"
      },
      "execution_count": null,
      "outputs": []
    },
    {
      "cell_type": "markdown",
      "source": [
        "Quick Sort"
      ],
      "metadata": {
        "id": "2Z4NHm2ulTDy"
      }
    },
    {
      "cell_type": "code",
      "source": [
        "def quicksort(arr: list()):\n",
        "  n = len(arr)\n",
        "  if(n <= 1):\n",
        "    return arr\n",
        "\n",
        "  pivot = arr[0]\n",
        "  left = []\n",
        "  right = []\n",
        "\n",
        "  for i in range(1, n):\n",
        "    if(arr[i] <= pivot):\n",
        "      left.append(arr[i])\n",
        "    else:\n",
        "      right.append(arr[i])\n",
        "\n",
        "  return quicksort(left) + [pivot] + quicksort(right)"
      ],
      "metadata": {
        "id": "8ApEAZvUeYRc"
      },
      "execution_count": 26,
      "outputs": []
    }
  ]
}