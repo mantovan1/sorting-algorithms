{
  "nbformat": 4,
  "nbformat_minor": 0,
  "metadata": {
    "colab": {
      "provenance": [],
      "authorship_tag": "ABX9TyM4lsYGVUg4B+xBDy/LaalK",
      "include_colab_link": true
    },
    "kernelspec": {
      "name": "python3",
      "display_name": "Python 3"
    },
    "language_info": {
      "name": "python"
    }
  },
  "cells": [
    {
      "cell_type": "markdown",
      "metadata": {
        "id": "view-in-github",
        "colab_type": "text"
      },
      "source": [
        "<a href=\"https://colab.research.google.com/github/mantovan1/sorting-algorithms/blob/main/processamento_informacao.ipynb\" target=\"_parent\"><img src=\"https://colab.research.google.com/assets/colab-badge.svg\" alt=\"Open In Colab\"/></a>"
      ]
    },
    {
      "cell_type": "markdown",
      "source": [
        "Selection Sort"
      ],
      "metadata": {
        "id": "QZi-jUhNjjgY"
      }
    },
    {
      "cell_type": "code",
      "source": [
        "def sort(number_list: list()):\n",
        "  for current_index in range(0, len(number_list)):\n",
        "    min_index = min(number_list[current_index:], current_index)\n",
        "    swap(number_list, current_index, min_index)"
      ],
      "metadata": {
        "id": "gTznVuz5dHJw"
      },
      "execution_count": 44,
      "outputs": []
    },
    {
      "cell_type": "code",
      "source": [
        "def min(number_list: list(), pos: int) -> int:\n",
        "  min_index = 0\n",
        "  for i in range(1, len(number_list)):\n",
        "    if(number_list[i] < number_list[min_index]):\n",
        "      min_index = i\n",
        "  return min_index + pos"
      ],
      "metadata": {
        "id": "8jKVKsxXeKmh"
      },
      "execution_count": 40,
      "outputs": []
    },
    {
      "cell_type": "code",
      "source": [
        "def swap(number_list : list(), current_index, min_index):\n",
        "  previus_value = number_list[current_index]\n",
        "  value = number_list[min_index]\n",
        "  number_list[current_index] = value;\n",
        "  numbers[min_index] = previus_value"
      ],
      "metadata": {
        "id": "2GTIgJSQeDiG"
      },
      "execution_count": 41,
      "outputs": []
    },
    {
      "cell_type": "code",
      "source": [
        "numbers = [1, 3, 3, 5, 9, 2, 4, 7, 6, 3, 8]\n",
        "sort(numbers)"
      ],
      "metadata": {
        "id": "5MSWbLFjjTWj"
      },
      "execution_count": 47,
      "outputs": []
    },
    {
      "cell_type": "code",
      "source": [
        "numbers"
      ],
      "metadata": {
        "colab": {
          "base_uri": "https://localhost:8080/"
        },
        "id": "vZPetqWSjYWJ",
        "outputId": "894cd093-197a-4f04-b98a-e6a409b3c4e5"
      },
      "execution_count": 48,
      "outputs": [
        {
          "output_type": "execute_result",
          "data": {
            "text/plain": [
              "[1, 2, 3, 3, 3, 4, 5, 6, 7, 8, 9]"
            ]
          },
          "metadata": {},
          "execution_count": 48
        }
      ]
    },
    {
      "cell_type": "markdown",
      "source": [
        "merge sort"
      ],
      "metadata": {
        "id": "gDgKhzBlremN"
      }
    },
    {
      "cell_type": "code",
      "source": [
        "def merge(arr: list()):\n",
        "  if(len(arr) > 1):\n",
        "    half = len(arr) // 2\n",
        "    l = arr[:half]\n",
        "    r = arr[half:]\n",
        "    merge(l)\n",
        "    merge(r)\n",
        "\n",
        "    i = j = k = 0\n",
        "\n",
        "    while(i < len(l) and j < len(r)):\n",
        "      if(l[i] <= r[j]):\n",
        "        arr[k] = l[i]\n",
        "        i = i + 1\n",
        "      else:\n",
        "        arr[k] = r[j]\n",
        "        j = j + 1\n",
        "      k = k + 1\n",
        "\n",
        "    while(i < len(l)):\n",
        "      arr[k] = l[i]\n",
        "      i += 1\n",
        "      k += 1\n",
        "\n",
        "    while(j < len(r)):\n",
        "      arr[k] = r[j]\n",
        "      j += 1\n",
        "      k += 1"
      ],
      "metadata": {
        "id": "oIvMQ7YFo3MP"
      },
      "execution_count": 68,
      "outputs": []
    },
    {
      "cell_type": "code",
      "source": [
        "number_list = [1, 3, 3, 5, 9, 2, 4, 7, 6, 3, 8]\n",
        "merge(number_list)"
      ],
      "metadata": {
        "id": "WuTE6Cxco6rW"
      },
      "execution_count": 69,
      "outputs": []
    },
    {
      "cell_type": "code",
      "source": [
        "number_list"
      ],
      "metadata": {
        "colab": {
          "base_uri": "https://localhost:8080/"
        },
        "id": "ohSddxRBqOJV",
        "outputId": "6f14ed9b-e92b-44e3-dfb2-114c2d022517"
      },
      "execution_count": 70,
      "outputs": [
        {
          "output_type": "execute_result",
          "data": {
            "text/plain": [
              "[1, 2, 3, 3, 3, 4, 5, 6, 7, 8, 9]"
            ]
          },
          "metadata": {},
          "execution_count": 70
        }
      ]
    },
    {
      "cell_type": "markdown",
      "source": [
        "heap sort"
      ],
      "metadata": {
        "id": "D09nQ7yg7Kko"
      }
    },
    {
      "cell_type": "code",
      "source": [
        "def heapify(arr, n, i):\n",
        "  largest = i\n",
        "  l = i * 2 + 1\n",
        "  r = i * 2 + 2\n",
        "\n",
        "  if l < n and arr[largest] < arr[l]:\n",
        "    largest = l\n",
        "  if r < n and arr[largest] < arr[r]:\n",
        "    largest = r\n",
        "  if(largest != i):\n",
        "    arr[i], arr[largest] = arr[largest], arr[i];\n",
        "    heapify(arr, n, largest)"
      ],
      "metadata": {
        "id": "I6AK3Q3wwn-2"
      },
      "execution_count": 117,
      "outputs": []
    },
    {
      "cell_type": "code",
      "source": [
        "def heap(arr: list()):\n",
        "  n = len(arr)\n",
        "  for i in range(n // 2 - 1, -1, -1):\n",
        "    heapify(arr, n, i)\n",
        "  for i in range(n-1, 0, -1):\n",
        "    arr[i], arr[0] = arr[0], arr[i] # swap\n",
        "    heapify(arr, i, 0)"
      ],
      "metadata": {
        "id": "PJtHSenSwsZA"
      },
      "execution_count": 124,
      "outputs": []
    },
    {
      "cell_type": "code",
      "source": [
        "arr = [1, 3, 3, 5, 9, 2, 4, 7, 6, 3, 8]\n",
        "heap(arr)"
      ],
      "metadata": {
        "id": "cSDVodxewz_k"
      },
      "execution_count": 125,
      "outputs": []
    },
    {
      "cell_type": "code",
      "source": [
        "arr"
      ],
      "metadata": {
        "colab": {
          "base_uri": "https://localhost:8080/"
        },
        "id": "s1LGTRA3zicp",
        "outputId": "6445f6e3-f697-42a1-a133-6cae6f46f4c9"
      },
      "execution_count": 126,
      "outputs": [
        {
          "output_type": "execute_result",
          "data": {
            "text/plain": [
              "[1, 2, 3, 3, 3, 4, 5, 6, 7, 8, 9]"
            ]
          },
          "metadata": {},
          "execution_count": 126
        }
      ]
    }
  ]
}